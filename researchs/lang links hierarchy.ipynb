{
 "cells": [
  {
   "cell_type": "markdown",
   "metadata": {
    "collapsed": true
   },
   "source": [
    "### Notebook to study the best way to architect a db to store wikipedia articles multiple languages"
   ]
  },
  {
   "cell_type": "code",
   "execution_count": 1,
   "metadata": {
    "collapsed": true
   },
   "outputs": [],
   "source": [
    "import py2neo #Libs to connect to neo4j\n",
    "\n",
    "def connectDb():\n",
    "    \"\"\"Function to connect to neo4j database.\"\"\"\n",
    "\n",
    "    py2neo.authenticate(\"localhost:7474\", \"neo4j\", \"lucas\")\n",
    "    dbConnection = py2neo.Graph(\"http://localhost:7474/db/data/\")\n",
    "\n",
    "    return dbConnection"
   ]
  },
  {
   "cell_type": "code",
   "execution_count": 2,
   "metadata": {
    "collapsed": true
   },
   "outputs": [],
   "source": [
    "from wikipydia import wikipedia, wikilinks"
   ]
  },
  {
   "cell_type": "code",
   "execution_count": 3,
   "metadata": {
    "collapsed": true,
    "scrolled": false
   },
   "outputs": [],
   "source": [
    "#art = wikipedia.get_article_by_href(\"C%2b%2b\")\n",
    "#wikilinks.get_article_links_score(art)"
   ]
  },
  {
   "cell_type": "code",
   "execution_count": 4,
   "metadata": {
    "collapsed": true
   },
   "outputs": [],
   "source": [
    "#\"Lu'cas\".replace(\"'\", \"\\\\'\")"
   ]
  },
  {
   "cell_type": "code",
   "execution_count": 96,
   "metadata": {
    "collapsed": true
   },
   "outputs": [],
   "source": [
    "from neo4j.v1 import GraphDatabase, basic_auth\n",
    "\n",
    "from urllib.parse import unquote\n",
    "\n",
    "class Wiki4Neo():\n",
    "    def __init__(self, user=\"neo4j\", password=\"lucas\"):\n",
    "        \"\"\"Connect to neo4j db\"\"\"\n",
    "        self.driver = GraphDatabase.driver(\"bolt://localhost:7687\", auth=basic_auth(user, password))\n",
    "        \n",
    "        #session = driver.session()\n",
    "        #session.run(\"CREATE (a:Person {name: {name}, title: {title}})\",{\"name\": \"Arthur\", \"title\": \"King\"})\n",
    "        #result = session.run(\"MATCH (a:Person) WHERE a.name = {name} RETURN a.name AS name, a.title AS title\",{\"name\": \"Arthur\"})\n",
    "        #for record in result:\n",
    "        #    print(\"%s %s\" % (record[\"title\"], record[\"name\"]))\n",
    "        #session.close()\n",
    "\n",
    "    def save_article(self, article, links, url, lang):\n",
    "        #Ensure to escape quotes from the title and url before query\n",
    "        #\"Lu'cas\".replace(\"'\", \"\\\\'\")\n",
    "        #pageInfo.title = pageInfo.title.replace(/['\\\\]/g, \"\\\\$&\");\n",
    "        #pageInfo.url = pageInfo.url.replace(/['\\\\]/g, \"\\\\$&\");\n",
    "        \n",
    "        article_title = escp(article.title())\n",
    "        url = escp(url)\n",
    "\n",
    "        #Construct query\n",
    "        neo_query = \"\\n\".join([\n",
    "            'MERGE (article:WikiArticle{{title:\"{}\", pageId:{}}})'.format(article_title, article.page_id()), \n",
    "            'ON CREATE SET article.lang = \"{}\"'.format(lang), \n",
    "            'MERGE (articleUrl:Wikiurl{{url_lang:\"{}\"}})'.format(url + \"_\" + lang),\n",
    "            'ON CREATE SET articleUrl.url = \"{}\", articleUrl.lang = \"{}\"'.format(url, lang),\n",
    "            'SET articleUrl.articleId = {}'.format(article.page_id()),\n",
    "            \"CREATE UNIQUE (articleUrl)-[:RedirectsTo]->(article)\"\n",
    "        ])\n",
    "        \n",
    "        #Create queries for links to the article\n",
    "        for i, (link_href, link_score) in enumerate(links):\n",
    "            #Ensure to escape quotes from the link before query\n",
    "            #var link = pageInfo.links[i].replace(/['\\\\]/g, \"\\\\$&\");\n",
    "            link_href = escp(unquote(link_href)) #Remove url quotes from the href\n",
    "\n",
    "            neo_query += \"\\n\\n\" + \"\\n\".join([\n",
    "                'MERGE (articleLink{}:Wikiurl{{url_lang: \"{}\"}})'.format(i, link_href+\"_\"+lang),\n",
    "                'ON CREATE SET articleLink{}.url = \"{}\", articleLink{}.lang = \"{}\"'.format(i,link_href,i,lang),\n",
    "                'CREATE UNIQUE (article)-[:LinksTo{{score:{}}}]->(articleLink{})'.format(link_score, i)\n",
    "            ])\n",
    "            \n",
    "        #Create query to create direct connection between articles\n",
    "        if False:\n",
    "            neo_query += \"\\n\"\n",
    "\n",
    "            #Add in/out ConnectsTo relation to this article \n",
    "            neo_query += \"\\n\".join([\n",
    "                \"WITH article MATCH (article)-[:LinksTo]->(:Wikiurl)-[:RedirectsTo]->(targetArticle:Article)\",\n",
    "                \"CREATE UNIQUE (article)-[:ConnectsTo]->(targetArticle)\",\n",
    "                \"WITH article MATCH (targetArticle:Article)-[:LinksTo]->(:Wikiurl)-[:RedirectsTo]->(article)\", \n",
    "                \" CREATE UNIQUE (targetArticle)-[:ConnectsTo]->(article)\"\n",
    "            ])\n",
    "            \n",
    "        neo_query += \"\\nRETURN id(article) as article_id\"\n",
    "\n",
    "        session = self.driver.session()\n",
    "        results = session.run(neo_query)\n",
    "        session.close()\n",
    "        \n",
    "        for record in results:\n",
    "            return record[\"article_id\"]"
   ]
  },
  {
   "cell_type": "code",
   "execution_count": 120,
   "metadata": {},
   "outputs": [
    {
     "name": "stdout",
     "output_type": "stream",
     "text": [
      "test\"\n",
      "test'\n"
     ]
    }
   ],
   "source": [
    "def escp(text):\n",
    "    return text\n",
    "    \"\"\"Function to escape special characters.\"\"\"\n",
    "    new_text = text\n",
    "    new_text = new_text.replace('\"', '\\\\\"') #Two bars because one escape the python code and the other the query str\n",
    "    new_text = new_text.replace(\"'\", \"\\\\'\")\n",
    "    \n",
    "    return new_text\n",
    "    \n",
    "print(escp('test\"'))\n",
    "print(escp(\"test'\"))"
   ]
  },
  {
   "cell_type": "code",
   "execution_count": 121,
   "metadata": {
    "collapsed": true
   },
   "outputs": [],
   "source": [
    "w4n = Wiki4Neo()"
   ]
  },
  {
   "cell_type": "code",
   "execution_count": 122,
   "metadata": {
    "collapsed": true
   },
   "outputs": [],
   "source": [
    "def save_article_and_links_scores_by_href(href, lang):\n",
    "    art = wikipedia.get_article_by_href(href, lang)\n",
    "    links = wikilinks.get_article_links_score(art)\n",
    "    art_id = w4n.save_article(art, links, href, lang)\n",
    "    print(art_id)"
   ]
  },
  {
   "cell_type": "code",
   "execution_count": 123,
   "metadata": {
    "collapsed": true
   },
   "outputs": [],
   "source": [
    "#save_article_and_links_scores_by_href(\"c%2b%2b\", \"en\")"
   ]
  },
  {
   "cell_type": "code",
   "execution_count": 124,
   "metadata": {
    "collapsed": true
   },
   "outputs": [],
   "source": [
    "#from urllib.parse import quote\n",
    "#for lang, article in wikipedia.get_article_langlinks(\"MQTT\"):\n",
    "    #article = quote(article) #quote article title to use as href\n",
    "    #save_article_and_links_scores_by_href(article, lang)"
   ]
  },
  {
   "cell_type": "code",
   "execution_count": 125,
   "metadata": {},
   "outputs": [],
   "source": [
    "def get_or_download_pagedata_by_href(href, lang):\n",
    "    \"\"\"\n",
    "    Get data from database, downloading missing data.\n",
    "    \"\"\"\n",
    "    \n",
    "    #start_time = time.time()\n",
    "    \n",
    "    #1. Get the wikiarticle data from the db by the href \n",
    "    neo_query = \"\\n\".join([\n",
    "        'MATCH (n:Wikiurl{{url:\"{}\", lang:\"{}\"}})-[:RedirectsTo]->(a:WikiArticle)',\n",
    "        'RETURN a.title as title, a.pageId as pageid, id(a) as id'\n",
    "    ]).format(escp(href), lang)\n",
    "    \n",
    "    session = w4n.driver.session()\n",
    "    results = session.run(neo_query)\n",
    "    session.close()\n",
    "    \n",
    "    #print(\"Time of the 1st try to locate the data:{}\".format(time.time() - start_time))\n",
    "    \n",
    "    for r in results:\n",
    "        return r['title'], r['pageid'], r['id']\n",
    "    \n",
    "    #start_time = time.time()\n",
    "    #2. If the href doesn't return an article, download this href\n",
    "    #Try to get the article\n",
    "    #If suceed, save the href and try to return the article and create a reference from the href\n",
    "    art = wikipedia.get_article_by_href(href, lang)\n",
    "    \n",
    "    neo_query = \"\\n\".join([\n",
    "        'MERGE (u:Wikiurl{{url_lang:\"{}\"}})'.format(escp(unquote(href)) + \"_\" + lang),\n",
    "        'ON CREATE SET u.url = \"{}\", u.lang = \"{}\", u.articleId = {}'.format(escp(unquote(href)), lang, art.page_id()),\n",
    "        'WITH u MATCH (a:WikiArticle{{pageId:{}}})'.format(art.page_id()),\n",
    "        'CREATE UNIQUE (u)-[:RedirectsTo]->(a)',\n",
    "        'RETURN a.title as title, a.pageId as pageid, id(a) as id'\n",
    "    ])\n",
    "    \n",
    "    session = w4n.driver.session()\n",
    "    results = session.run(neo_query)\n",
    "    session.close()\n",
    "    #print(\"Time of the 2nd try to locate the data:{}\".format(time.time() - start_time))\n",
    "    \n",
    "    for r in results:\n",
    "        return r['title'], r['pageid'], r['id']\n",
    "    \n",
    "    #start_time = time.time()\n",
    "    #3. If nothing has been returned till now, so the article doesn't exists, lets register it\n",
    "    links = wikilinks.get_article_links_score(art)\n",
    "    new_art_id = w4n.save_article(art, links, href, lang)\n",
    "    #print(\"Time of the 3rd try to locate the data:{}\".format(time.time() - start_time))\n",
    "    \n",
    "    return art.title(), art.page_id(), new_art_id"
   ]
  },
  {
   "cell_type": "code",
   "execution_count": 126,
   "metadata": {},
   "outputs": [],
   "source": [
    "#print(get_or_download_pagedata_by_href(\"c%2b%2b\", \"en\"))"
   ]
  },
  {
   "cell_type": "code",
   "execution_count": 161,
   "metadata": {
    "collapsed": true
   },
   "outputs": [],
   "source": [
    "from urllib.parse import quote\n",
    "import time\n",
    "\n",
    "def download_and_save_global_articles(href_en):\n",
    "    start_time = time.time()\n",
    "    \n",
    "    #global_articles = list()\n",
    "\n",
    "    #href_en = \"MQTT\"\n",
    "    \n",
    "    #1. Download english article and get links scores\n",
    "    #art_en = wikipedia.get_article_by_href(href_en, \"en\")\n",
    "    #links_scores = wikilinks.get_article_links_score(art_en)\n",
    "    #global_articles.append((art_en, links_scores, href_en, \"en\"))\n",
    "    #global_article_title = art_en.title()\n",
    "    #global_article_pageid = art_en.page_id()\n",
    "    \n",
    "    #1.1 Get or download english article data\n",
    "    print(\"Getting english article data...\")\n",
    "    art_en_title, art_en_page_id, art_en_id = get_or_download_pagedata_by_href(href_en, \"en\")\n",
    "    \n",
    "    global_article_title = art_en_title\n",
    "    global_article_pageid = art_en_page_id\n",
    "    \n",
    "    #2. Get global links by english article title\n",
    "    print(\"Getting global links...\")\n",
    "    #global_links = wikipedia.get_article_langlinks(art_en.title())\n",
    "    #Quote title for correct results for cases of \"C++\" etc\n",
    "    global_links = wikipedia.get_article_langlinks(quote(art_en_title)) \n",
    "    \n",
    "\n",
    "    #3. Download articles and generate links scores fot the global links\n",
    "    #for art_lang, art_title in global_links:\n",
    "        #art_href = quote(art_title)\n",
    "        #art = wikipedia.get_article_by_href(art_href, art_lang)\n",
    "        #art_links_scores = wikilinks.get_article_links_score(art)\n",
    "        #global_articles.append((art, art_links_scores, art_href, art_lang))\n",
    "        \n",
    "    global_pageids = list()\n",
    "    global_pageids.append(art_en_id)\n",
    "    print(\"Getting global links articles data...\")\n",
    "    #3.1 Register hrefs from the global links and get their register ids\n",
    "    for i, (art_lang, art_title) in enumerate(global_links):\n",
    "        art_href = quote(art_title) #get href by quoting title\n",
    "        print(\"{} {} - {}/{}\".format(art_title, art_lang, i+1, len(global_links)))\n",
    "        try:\n",
    "            art_title, art_page_id, art_id = get_or_download_pagedata_by_href(art_href, art_lang)\n",
    "            global_pageids.append(art_id)\n",
    "        except:\n",
    "            print(\"ERROR. Skiping.\")\n",
    "        \n",
    "    print(global_pageids)\n",
    "\n",
    "    #4. Save them into the database and get their ids\n",
    "    #global_pageids = list()\n",
    "    #for art in global_articles:\n",
    "        #new_page_ids = w4n.save_article(art[0], art[1], art[2], art[3])\n",
    "        #global_pageids.append(new_page_ids)\n",
    "    \n",
    "    \n",
    "    #5. Points every article to the global article of its kind\n",
    "    print(\"Saving global articles...\")\n",
    "    neo_query = \"\\n\".join([\n",
    "        'MERGE (art:GlobalArticle{{title:\"{}\", en_page_id:{}}})'.format(global_article_title, global_article_pageid),\n",
    "        \"WITH art MATCH (target_art:WikiArticle) WHERE ID(target_art) IN {}\".format(global_pageids),\n",
    "        \"CREATE UNIQUE (art)<-[:DerivesFrom]-(target_art)\"\n",
    "    ])    \n",
    "\n",
    "    session = w4n.driver.session()\n",
    "    session.run(neo_query)\n",
    "    session.close()\n",
    "    print(\"Done ({} seconds.)\".format(time.time() - start_time))"
   ]
  },
  {
   "cell_type": "code",
   "execution_count": 162,
   "metadata": {},
   "outputs": [],
   "source": [
    "#import time\n",
    "\n",
    "#start_time = time.time()\n",
    "#get_or_download_pagedata_by_href(\"MQTT\", \"pt\")\n",
    "#print(time.time() - start_time)"
   ]
  },
  {
   "cell_type": "code",
   "execution_count": 163,
   "metadata": {
    "scrolled": false
   },
   "outputs": [
    {
     "name": "stdout",
     "output_type": "stream",
     "text": [
      "Getting english article data...\n",
      "Getting global links...\n",
      "Getting global links articles data...\n",
      "C++ af - 1/99\n",
      "C++ an - 2/99\n",
      "سي++ ar - 3/99\n",
      "سى++ arz - 4/99\n",
      "C++ az - 5/99\n",
      "سی++ azb - 6/99\n",
      "C++ bat-smg - 7/99\n",
      "C++ be - 8/99\n",
      "C++ be-x-old - 9/99\n",
      "C++ bg - 10/99\n",
      "সি++ bn - 11/99\n",
      "Areg C++ br - 12/99\n",
      "C++ bs - 13/99\n",
      "C++ bug - 14/99\n",
      "C++ ca - 15/99\n",
      "C++ cs - 16/99\n",
      "C++ cv - 17/99\n",
      "C++ da - 18/99\n",
      "C++ de - 19/99\n",
      "C++ el - 20/99\n",
      "C++ eo - 21/99\n",
      "C++ es - 22/99\n",
      "C++ et - 23/99\n",
      "C++ eu - 24/99\n",
      "سی پلاس‌پلاس fa - 25/99\n",
      "C++ fi - 26/99\n",
      "C++ fr - 27/99\n",
      "C++ ga - 28/99\n",
      "C++ gan - 29/99\n",
      "C++ gl - 30/99\n",
      "C++(પ્રોગ્રામિંગ ભાષા) gu - 31/99\n",
      "C++ he - 32/99\n",
      "ERROR. Skiping.\n",
      "सी++ hi - 33/99\n",
      "C++ hr - 34/99\n",
      "C++ hu - 35/99\n",
      "C++ hy - 36/99\n",
      "C++ ia - 37/99\n",
      "C++ id - 38/99\n",
      "C++ is - 39/99\n",
      "C++ it - 40/99\n",
      "C++ ja - 41/99\n",
      "C++ jv - 42/99\n",
      "C++ ka - 43/99\n",
      "C++ kaa - 44/99\n",
      "C++ kk - 45/99\n",
      "ಸಿ++ kn - 46/99\n",
      "C++ ko - 47/99\n",
      "C++ ky - 48/99\n",
      "C++ la - 49/99\n",
      "C++ lb - 50/99\n",
      "C++ lmo - 51/99\n",
      "C++ lt - 52/99\n",
      "C++ lv - 53/99\n",
      "C++ mk - 54/99\n",
      "സി++ ml - 55/99\n",
      "C++ mn - 56/99\n",
      "सी प्लस प्लस (आज्ञावली भाषा) mr - 57/99\n",
      "C++ ms - 58/99\n",
      "C++ my - 59/99\n",
      "सी++ new - 60/99\n",
      "C++ nl - 61/99\n",
      "C++ nn - 62/99\n",
      "C++ no - 63/99\n",
      "C++ oc - 64/99\n",
      "ਸੀ++ pa - 65/99\n",
      "C++ pfl - 66/99\n",
      "C++ pl - 67/99\n",
      "سی++ pnb - 68/99\n",
      "C++ pt - 69/99\n",
      "C++ ro - 70/99\n",
      "C++ ru - 71/99\n",
      "C++ sah - 72/99\n",
      "C++ sco - 73/99\n",
      "C++ sh - 74/99\n",
      "C++ si - 75/99\n",
      "C++ simple - 76/99\n",
      "C++ sk - 77/99\n",
      "C++ sl - 78/99\n",
      "C++ sq - 79/99\n",
      "C++ sr - 80/99\n",
      "C++ sv - 81/99\n",
      "சி++ ta - 82/99\n",
      "సీ ప్లస్ ప్లస్ te - 83/99\n",
      "C++ tg - 84/99\n",
      "ภาษาซีพลัสพลัส th - 85/99\n",
      "C++ programmirleme tk - 86/99\n",
      "C++ tr - 87/99\n",
      "C++ tt - 88/99\n",
      "C++ uk - 89/99\n",
      "سی++ ur - 90/99\n",
      "C++ uz - 91/99\n",
      "C++ vi - 92/99\n",
      "C++ war - 93/99\n",
      "C++ wuu - 94/99\n",
      "++C yi - 95/99\n",
      "C++ yo - 96/99\n",
      "C++ zh - 97/99\n",
      "C++ zh-min-nan - 98/99\n",
      "C++ zh-yue - 99/99\n",
      "[1, 174, 180, 186, 274, 282, 305, 312, 316, 353, 376, 410, 430, 438, 448, 451, 477, 534, 545, 562, 673, 699, 715, 785, 822, 833, 901, 940, 1071, 1077, 1080, 1101, 1111, 1120, 1138, 1178, 1219, 1225, 1242, 1247, 1339, 1502, 1510, 1517, 1520, 1525, 1532, 1576, 1580, 1598, 1604, 1613, 1622, 1636, 1640, 1658, 1665, 1669, 1681, 1685, 1688, 1805, 1811, 1835, 1840, 1844, 1849, 1908, 1914, 2172, 2202, 2413, 2418, 2427, 2435, 2441, 2453, 2480, 2533, 2541, 2559, 2608, 2616, 2623, 2684, 2700, 2703, 2713, 2717, 2812, 2834, 2838, 2893, 2896, 2900, 2907, 2913, 3010, 3016]\n",
      "Saving global articles...\n",
      "Done (109.26924991607666 seconds.)\n"
     ]
    }
   ],
   "source": [
    "download_and_save_global_articles(\"c%2b%2b\")"
   ]
  },
  {
   "cell_type": "code",
   "execution_count": 164,
   "metadata": {},
   "outputs": [],
   "source": [
    "query = \"\\n\".join(['MATCH (n:GlobalArticle)<-[:DerivesFrom]-(:WikiArticle)-[l:LinksTo]->(u:Wikiurl)',\n",
    "                   'WHERE n.title = \"C++\" RETURN l.score as score,u.url as url, u.lang as lang'\n",
    "                  ])\n",
    "\n",
    "session = w4n.driver.session()\n",
    "result = session.run(query)\n",
    "session.close()"
   ]
  },
  {
   "cell_type": "code",
   "execution_count": 165,
   "metadata": {},
   "outputs": [],
   "source": [
    "from collections import defaultdict, Counter\n",
    "\n",
    "lang_links = defaultdict(list)\n",
    "\n",
    "for r in result:\n",
    "    lang_links[r['lang']].append([r['url'], r['score']])"
   ]
  },
  {
   "cell_type": "code",
   "execution_count": 166,
   "metadata": {},
   "outputs": [],
   "source": [
    "#Normalize scores for every lang\n",
    "for lang in lang_links.keys():\n",
    "    score_sum = 0\n",
    "    for url, score in lang_links[lang]:\n",
    "        score_sum += score\n",
    "    \n",
    "    for i,(url, score) in enumerate(lang_links[lang]):\n",
    "        lang_links[lang][i].append(score/score_sum)"
   ]
  },
  {
   "cell_type": "code",
   "execution_count": 168,
   "metadata": {},
   "outputs": [],
   "source": [
    "#Accumulate everything (assuming urls share href among languages)\n",
    "#Maybe weight things by the number urls they have\n",
    "#And get only things that the english version links to\n",
    "result_score = Counter()\n",
    "\n",
    "for lang in lang_links.keys():\n",
    "    for url, score, score_norm in lang_links[lang]:\n",
    "        result_score[url] += score_norm"
   ]
  },
  {
   "cell_type": "code",
   "execution_count": 170,
   "metadata": {
    "scrolled": true
   },
   "outputs": [
    {
     "data": {
      "text/plain": [
       "[('C', 3.9255560752546277),\n",
       " ('International_Standard_Book_Number', 2.504589083441126),\n",
       " ('Programming_language', 1.1419850885368126),\n",
       " ('Bjarne_Stroustrup', 1.005180843981163),\n",
       " ('Vikipediya', 1.0),\n",
       " ('C语言', 1.0),\n",
       " ('સંદર્ભ_આપો', 1.0),\n",
       " ('Ризница_(Викимедија)', 1.0),\n",
       " ('Бримкулов,_Улан_Нургазиевич', 1.0),\n",
       " ('ब्यार्न_स्त्राऊस्त्रुप', 1.0)]"
      ]
     },
     "execution_count": 170,
     "metadata": {},
     "output_type": "execute_result"
    }
   ],
   "source": [
    "result_score.most_common()[:10]"
   ]
  },
  {
   "cell_type": "code",
   "execution_count": 171,
   "metadata": {},
   "outputs": [
    {
     "data": {
      "text/plain": [
       "[('C_(programming_language)', 0.2324324324324324),\n",
       " ('Standardization', 0.05945945945945945),\n",
       " ('International_Organization_for_Standardization', 0.03378378378378378),\n",
       " ('Library_(computing)', 0.03378378378378378),\n",
       " ('Feature_(software_design)', 0.03243243243243243),\n",
       " ('Generic_programming', 0.03175675675675675),\n",
       " ('Operator_(programming)', 0.024324324324324322),\n",
       " ('Exception_handling', 0.02027027027027027),\n",
       " ('Class_(computer_programming)', 0.018018018018018025),\n",
       " ('C++14', 0.014864864864864867),\n",
       " ('Compile-time', 0.014864864864864862),\n",
       " ('Template_(programming)', 0.012837837837837835),\n",
       " ('C++11', 0.012162162162162168),\n",
       " ('Base_class', 0.012162162162162161),\n",
       " ('Variable_(programming)', 0.01081081081081081),\n",
       " ('Inheritance_(computer_science)', 0.01081081081081081),\n",
       " ('Inheritance_(object-oriented_programming)', 0.01081081081081081),\n",
       " ('Data', 0.01081081081081081),\n",
       " ('Performance_(software)', 0.009459459459459458),\n",
       " ('Compiler', 0.009459459459459458),\n",
       " ('Operator_overloading', 0.009459459459459458),\n",
       " ('Class_(computer_science)', 0.009009009009009004),\n",
       " ('Run_time_(program_lifecycle_phase)', 0.008108108108108107),\n",
       " ('Standard_Template_Library', 0.008108108108108107),\n",
       " ('Algorithm', 0.008108108108108107),\n",
       " ('Polymorphism_(computer_science)', 0.007207207207207206),\n",
       " ('C++17', 0.006756756756756758),\n",
       " ('Virtual_function', 0.006756756756756755),\n",
       " ('Memory_(computing)', 0.006756756756756755),\n",
       " ('Information_hiding', 0.006756756756756755),\n",
       " ('Template_metaprogramming', 0.006756756756756755),\n",
       " ('Container_(data_structure)', 0.006756756756756755),\n",
       " ('Type_polymorphism', 0.005855855855855854),\n",
       " ('Polymorphism_in_object-oriented_programming', 0.005855855855855854),\n",
       " ('Object-oriented_programming', 0.005405405405405405),\n",
       " ('Value_(computer_science)', 0.005405405405405405),\n",
       " ('C++_standard_library', 0.005405405405405405),\n",
       " ('Bjarne_Stroustrup', 0.005405405405405405),\n",
       " ('Default_argument', 0.005405405405405405),\n",
       " ('Abstraction_(computer_science)', 0.005405405405405405),\n",
       " ('Destructor_(computer_science)', 0.005405405405405405),\n",
       " ('Java_(programming_language)', 0.005067567567567567),\n",
       " ('C99', 0.004054054054054053),\n",
       " ('Macro_(computer_science)', 0.004054054054054053),\n",
       " ('Virtual_inheritance', 0.004054054054054053),\n",
       " ('Interface_(computer_science)', 0.004054054054054053),\n",
       " ('Iostream', 0.004054054054054053),\n",
       " ('Type_system', 0.004054054054054053),\n",
       " ('Programming_language', 0.004054054054054053),\n",
       " ('Embedded_software', 0.004054054054054053),\n",
       " ('Derived_class', 0.004054054054054053),\n",
       " ('The_C++_Programming_Language', 0.004054054054054053),\n",
       " ('C_Sharp_(programming_language)', 0.004054054054054053),\n",
       " ('Simula', 0.004054054054054053),\n",
       " ('Resource_Acquisition_is_Initialization', 0.004054054054054053),\n",
       " ('C++98', 0.004054054054054053),\n",
       " ('Linked_list', 0.0027027027027027024),\n",
       " ('C_standard_library', 0.0027027027027027024),\n",
       " ('Core_language', 0.0027027027027027024),\n",
       " ('Virtual_functions', 0.0027027027027027024),\n",
       " ('Name_mangling', 0.0027027027027027024),\n",
       " ('Iterator', 0.0027027027027027024),\n",
       " ('Memory_management', 0.0027027027027027024),\n",
       " ('C_syntax', 0.0027027027027027024),\n",
       " ('Inlining', 0.0027027027027027024),\n",
       " ('BCPL', 0.0027027027027027024),\n",
       " ('Parametric_polymorphism', 0.0027027027027027024),\n",
       " ('Abstract_base_class', 0.0027027027027027024),\n",
       " ('Multiple_inheritance', 0.0027027027027027024),\n",
       " ('Turing-complete', 0.0027027027027027024),\n",
       " ('Bell_Labs', 0.0027027027027027024),\n",
       " ('C++20', 0.0027027027027027024),\n",
       " ('D_(programming_language)', 0.0027027027027027024),\n",
       " ('D_language', 0.0027027027027027024),\n",
       " ('Low-level_programming', 0.0027027027027027024),\n",
       " ('List_of_compilers', 0.0027027027027027024),\n",
       " ('C++03', 0.0027027027027027024),\n",
       " ('Generics_in_Java', 0.0016891891891891888),\n",
       " ('Ken_Thompson', 0.0013513513513513512),\n",
       " ('Reflection_(computer_programming)', 0.0013513513513513512),\n",
       " ('Garbage_collection_(computer_science)', 0.0013513513513513512),\n",
       " ('Feature_creep', 0.0013513513513513512),\n",
       " ('Compatibility_of_C_and_C++', 0.0013513513513513512),\n",
       " ('Variable-length_array', 0.0013513513513513512),\n",
       " ('Linus_Torvalds', 0.0013513513513513512),\n",
       " ('Richard_Stallman', 0.0013513513513513512),\n",
       " ('Go_language', 0.0013513513513513512),\n",
       " ('Rust_language', 0.0013513513513513512),\n",
       " ('Vala_language', 0.0013513513513513512),\n",
       " ('Regular_expression', 0.0013513513513513512),\n",
       " ('Array_data_structure', 0.0013513513513513512),\n",
       " ('Sequence_container_(C++)', 0.0013513513513513512),\n",
       " ('Function_object', 0.0013513513513513512),\n",
       " ('Syntactic_sugar', 0.0013513513513513512),\n",
       " ('Closure_(computer_programming)', 0.0013513513513513512),\n",
       " ('Anonymous_function', 0.0013513513513513512),\n",
       " ('Fully_qualified_name', 0.0013513513513513512),\n",
       " ('Operating_system', 0.0013513513513513512),\n",
       " ('Object_code', 0.0013513513513513512),\n",
       " ('Alexander_Stepanov', 0.0013513513513513512),\n",
       " ('Standard_header', 0.0013513513513513512),\n",
       " ('Directive_(programming)', 0.0013513513513513512),\n",
       " ('Associative_array', 0.0013513513513513512),\n",
       " ('Random_number_generator', 0.0013513513513513512),\n",
       " ('Multithreading_(software)', 0.0013513513513513512),\n",
       " ('Runtime_polymorphism', 0.0013513513513513512),\n",
       " ('Ad_hoc_polymorphism', 0.0013513513513513512),\n",
       " ('Short-circuit_evaluation', 0.0013513513513513512),\n",
       " ('Compile-time_polymorphism', 0.0013513513513513512),\n",
       " ('Smart_pointer', 0.0013513513513513512),\n",
       " ('Smart_pointers', 0.0013513513513513512),\n",
       " ('Modularity_(programming)', 0.0013513513513513512),\n",
       " ('Dominance_(C++)', 0.0013513513513513512),\n",
       " ('Dynamic_dispatch', 0.0013513513513513512),\n",
       " ('Virtual_function_table', 0.0013513513513513512),\n",
       " ('Run-time_type_information', 0.0013513513513513512),\n",
       " ('Method_overriding_(programming)', 0.0013513513513513512),\n",
       " ('Default_arguments', 0.0013513513513513512),\n",
       " ('Curiously_Recurring_Template_Pattern', 0.0013513513513513512),\n",
       " ('Function_overloading', 0.0013513513513513512),\n",
       " ('Parameter_(computer_science)', 0.0013513513513513512),\n",
       " ('Parallel_computing', 0.0013513513513513512),\n",
       " ('Transactional_memory', 0.0013513513513513512),\n",
       " ('Concepts_(C++)', 0.0013513513513513512),\n",
       " ('Hello_world_program', 0.0013513513513513512),\n",
       " ('Standard_output', 0.0013513513513513512),\n",
       " ('Undefined_behaviour', 0.0013513513513513512),\n",
       " ('Substitution_failure_is_not_an_error', 0.0013513513513513512),\n",
       " ('C++_classes', 0.0013513513513513512),\n",
       " ('Tongue-in-cheek', 0.0013513513513513512),\n",
       " ('Increment_and_decrement_operators', 0.0013513513513513512),\n",
       " ('Naming_convention', 0.0013513513513513512),\n",
       " ('Assembly_language', 0.0013513513513513512),\n",
       " ('Programming_environment', 0.0013513513513513512),\n",
       " ('ISO/IEC_JTC_1/SC_22', 0.0013513513513513512),\n",
       " ('C++_Technical_Report_1', 0.0013513513513513512),\n",
       " ('Decimal_floating_point', 0.0013513513513513512),\n",
       " ('Increment_operator', 0.0013513513513513512),\n",
       " ('Strong_typing', 0.0013513513513513512),\n",
       " ('Const_correctness', 0.0013513513513513512),\n",
       " ('Cfront', 0.0013513513513513512),\n",
       " ('Cast_(computer_science)', 0.0013513513513513512),\n",
       " ('Namespaces', 0.0013513513513513512),\n",
       " ('C++', 0.0013513513513513512),\n",
       " ('Boolean_datatype', 0.0013513513513513512),\n",
       " ('Unix', 0.0013513513513513512),\n",
       " ('AT&T_Bell_Labs', 0.0013513513513513512),\n",
       " ('Distributed_computing', 0.0013513513513513512),\n",
       " ('Kernel_(computer_science)', 0.0013513513513513512),\n",
       " ('Ada_(programming_language)', 0.0013513513513513512),\n",
       " ('ALGOL_68', 0.0013513513513513512),\n",
       " ('ML_(programming_language)', 0.0013513513513513512),\n",
       " ('CLU_(programming_language)', 0.0013513513513513512),\n",
       " ('Compiled_language', 0.0013513513513513512),\n",
       " ('Free_Software_Foundation', 0.0013513513513513512),\n",
       " ('Telephone_switches', 0.0013513513513513512),\n",
       " ('Space_probes', 0.0013513513513513512),\n",
       " ('IBM', 0.0013513513513513512),\n",
       " ('Computer_scientist', 0.0013513513513513512),\n",
       " ('Microsoft', 0.0013513513513513512),\n",
       " ('Intel', 0.0013513513513513512),\n",
       " ('Imperative_programming', 0.0013513513513513512),\n",
       " ('System_programming', 0.0013513513513513512),\n",
       " ('English_alphabet', 0.0013513513513513512),\n",
       " ('General-purpose_programming_language', 0.0013513513513513512),\n",
       " ('Web_search_engine', 0.0013513513513513512),\n",
       " ('SQL', 0.0013513513513513512),\n",
       " ('Application_software', 0.0013513513513513512),\n",
       " ('E-commerce', 0.0013513513513513512),\n",
       " ('120_(number)', 0.0013513513513513512)]"
      ]
     },
     "execution_count": 171,
     "metadata": {},
     "output_type": "execute_result"
    }
   ],
   "source": [
    "eng_counter = Counter()\n",
    "for url, score, score_norm in lang_links[\"en\"]:\n",
    "    eng_counter[url] += score_norm\n",
    "    \n",
    "eng_counter.most_common()"
   ]
  },
  {
   "cell_type": "code",
   "execution_count": 28,
   "metadata": {
    "collapsed": true
   },
   "outputs": [],
   "source": [
    "#wikipedia.get_article_langlinks(\"Artificial_neural_network\")"
   ]
  },
  {
   "cell_type": "code",
   "execution_count": 134,
   "metadata": {},
   "outputs": [],
   "source": [
    "#save_article_and_links_scores_by_href(\"c%2b%2b\", \"he\")"
   ]
  },
  {
   "cell_type": "code",
   "execution_count": 131,
   "metadata": {},
   "outputs": [],
   "source": [
    "#\"ב\".encode(encoding='ascii',errors='strict').decode(\"utf-8\", errors=\"strict\") "
   ]
  },
  {
   "cell_type": "code",
   "execution_count": 132,
   "metadata": {},
   "outputs": [],
   "source": [
    "#wikipedia.get_article_langlinks(\"C%2b%2b\")"
   ]
  },
  {
   "cell_type": "code",
   "execution_count": 133,
   "metadata": {},
   "outputs": [],
   "source": [
    "#MATCH (n:GlobalArticle)<-[:DerivesFrom]-(:WikiArticle)-[l:LinksTo]->(u:Wikiurl)-[:RedirectsTo]->(:WikiArticle)-[:DerivesFrom]->(o:GlobalArticle) WHERE n.title = \"MQTT\" RETURN n,u,l,o"
   ]
  },
  {
   "cell_type": "code",
   "execution_count": null,
   "metadata": {
    "collapsed": true
   },
   "outputs": [],
   "source": []
  }
 ],
 "metadata": {
  "kernelspec": {
   "display_name": "Python 3",
   "language": "python",
   "name": "python3"
  },
  "language_info": {
   "codemirror_mode": {
    "name": "ipython",
    "version": 3
   },
   "file_extension": ".py",
   "mimetype": "text/x-python",
   "name": "python",
   "nbconvert_exporter": "python",
   "pygments_lexer": "ipython3",
   "version": "3.6.1"
  }
 },
 "nbformat": 4,
 "nbformat_minor": 2
}
