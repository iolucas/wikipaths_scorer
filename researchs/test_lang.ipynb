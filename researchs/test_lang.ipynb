{
 "cells": [
  {
   "cell_type": "code",
   "execution_count": 2,
   "metadata": {
    "collapsed": true
   },
   "outputs": [],
   "source": []
  },
  {
   "cell_type": "code",
   "execution_count": 4,
   "metadata": {
    "collapsed": true
   },
   "outputs": [],
   "source": [
    "#dbConnection = connectDb()"
   ]
  },
  {
   "cell_type": "code",
   "execution_count": 5,
   "metadata": {
    "collapsed": true
   },
   "outputs": [],
   "source": [
    "import requests"
   ]
  },
  {
   "cell_type": "code",
   "execution_count": 22,
   "metadata": {
    "collapsed": true
   },
   "outputs": [],
   "source": [
    "def get_page_languages(title, lang, timeout):\n",
    "    \"\"\"Function to retrieve links to pages of the same content but other languages.\"\"\"\n",
    "    \n",
    "    #https://www.mediawiki.org/wiki/API:Langlinks\n",
    "    #https://en.wikipedia.org/w/api.php?action=query&titles=Technical_drawing&prop=langlinks&lllimit=500\n",
    "\n",
    "    req_params = [\n",
    "        'action=query',\n",
    "        'format=json',\n",
    "        'prop=langlinks',\n",
    "        'lllimit=500',\n",
    "        'titles=' + title\n",
    "    ]\n",
    "\n",
    "    wikipedia_api_url = \"https://\" + lang + \".wikipedia.org/w/api.php?\" + \"&\".join(req_params)\n",
    "\n",
    "    #try:\n",
    "    page_data = requests.get(wikipedia_api_url, timeout=timeout).json()\n",
    "    #except requests.exceptions.ConnectTimeout:\n",
    "        #raise exceptions.PageRequestTimeout(page, lang, timeout)\n",
    "\n",
    "    langlinks = list()\n",
    "        \n",
    "    for pageid, pagedata in page_data['query']['pages'].items():\n",
    "        if pageid == \"-1\":\n",
    "            raise Exception(\"Page does not exists.\")\n",
    "        \n",
    "        if 'langlinks' not in pagedata:\n",
    "            continue\n",
    "            \n",
    "        for link in pagedata['langlinks']:\n",
    "            langlinks.append((link[\"lang\"], link[\"*\"]))\n",
    "            \n",
    "    return langlinks"
   ]
  },
  {
   "cell_type": "code",
   "execution_count": 25,
   "metadata": {},
   "outputs": [
    {
     "data": {
      "text/plain": [
       "[('de', 'Rekurrentes neuronales Netz'),\n",
       " ('fr', 'Réseau de neurones récurrents'),\n",
       " ('ko', '순환 인공 신경망'),\n",
       " ('mk', 'Рекурентни невронски мрежи'),\n",
       " ('ru', 'Рекуррентная нейронная сеть'),\n",
       " ('sk', 'Rekurentná neurónová sieť'),\n",
       " ('uk', 'Рекурентна нейронна мережа'),\n",
       " ('zh', '递归神经网络')]"
      ]
     },
     "execution_count": 25,
     "metadata": {},
     "output_type": "execute_result"
    }
   ],
   "source": [
    "get_page_languages(\"Recurrent neural network\", \"en\", 60)"
   ]
  },
  {
   "cell_type": "code",
   "execution_count": 27,
   "metadata": {},
   "outputs": [],
   "source": [
    "from wikipydia import wikipedia"
   ]
  },
  {
   "cell_type": "code",
   "execution_count": 33,
   "metadata": {},
   "outputs": [
    {
     "data": {
      "text/plain": [
       "[('ar', 'رسم صناعي'),\n",
       " ('az', 'Çertyoj'),\n",
       " ('be', 'Чарцёж'),\n",
       " ('be-x-old', 'Рысунак'),\n",
       " ('bg', 'Чертеж'),\n",
       " ('bn', 'ড্রাফটিং'),\n",
       " ('ca', 'Dibuix tècnic'),\n",
       " ('cs', 'Technický výkres'),\n",
       " ('de', 'Technisches Zeichnen'),\n",
       " ('eml', 'Disègn tètnic'),\n",
       " ('eo', 'Teknika desegnado'),\n",
       " ('es', 'Dibujo técnico'),\n",
       " ('eu', 'Marrazketa teknikoa'),\n",
       " ('fa', 'ترسیم فنی'),\n",
       " ('fi', 'Tekninen piirtäminen'),\n",
       " ('fr', 'Dessin technique'),\n",
       " ('gl', 'Debuxo técnico'),\n",
       " ('he', 'שרטוט טכני'),\n",
       " ('hi', 'तकनीकी चित्रण'),\n",
       " ('hu', 'Műszaki rajz'),\n",
       " ('hy', 'Տեխնիկական գծագրություն'),\n",
       " ('it', 'Disegno tecnico'),\n",
       " ('ja', '製図'),\n",
       " ('ka', 'ხაზვა'),\n",
       " ('kk', 'Сызба'),\n",
       " ('ko', '제도 (설계)'),\n",
       " ('lt', 'Braižyba'),\n",
       " ('mn', 'Техникийн зураг зүй'),\n",
       " ('ms', 'Lukisan teknik'),\n",
       " ('nl', 'Technisch tekenen'),\n",
       " ('no', 'Teknisk tegning'),\n",
       " ('pl', 'Rysunek techniczny'),\n",
       " ('pt', 'Desenho técnico'),\n",
       " ('ro', 'Desen tehnic'),\n",
       " ('ru', 'Чертёж'),\n",
       " ('simple', 'Technical drawing'),\n",
       " ('sk', 'Technický výkres'),\n",
       " ('sv', 'Teknisk ritning'),\n",
       " ('ta', 'தொழில்நுட்ப வரைதல்'),\n",
       " ('te', 'సాంకేతిక రేఖాచిత్రం'),\n",
       " ('tr', 'Teknik resim'),\n",
       " ('uk', 'Креслення'),\n",
       " ('vi', 'Vẽ kỹ thuật'),\n",
       " ('zh', '工程制图')]"
      ]
     },
     "execution_count": 33,
     "metadata": {},
     "output_type": "execute_result"
    }
   ],
   "source": [
    "wikipedia.get_article_langlinks(\"Technical drawing\")"
   ]
  },
  {
   "cell_type": "code",
   "execution_count": null,
   "metadata": {
    "collapsed": true
   },
   "outputs": [],
   "source": []
  }
 ],
 "metadata": {
  "kernelspec": {
   "display_name": "Python 3",
   "language": "python",
   "name": "python3"
  },
  "language_info": {
   "codemirror_mode": {
    "name": "ipython",
    "version": 3
   },
   "file_extension": ".py",
   "mimetype": "text/x-python",
   "name": "python",
   "nbconvert_exporter": "python",
   "pygments_lexer": "ipython3",
   "version": "3.6.1"
  }
 },
 "nbformat": 4,
 "nbformat_minor": 2
}
