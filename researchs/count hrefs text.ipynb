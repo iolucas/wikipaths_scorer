{
 "cells": [
  {
   "cell_type": "code",
   "execution_count": 1,
   "metadata": {
    "collapsed": true
   },
   "outputs": [],
   "source": [
    "from wikipydia import wikipedia, parse\n",
    "from wikipydia.wikisyn import WikisynDict"
   ]
  },
  {
   "cell_type": "code",
   "execution_count": 2,
   "metadata": {
    "collapsed": true
   },
   "outputs": [],
   "source": [
    "#arti = wikipedia.get_article_by_href(\"css\")\n",
    "#rti.html()"
   ]
  },
  {
   "cell_type": "code",
   "execution_count": 3,
   "metadata": {
    "collapsed": true
   },
   "outputs": [],
   "source": [
    "def join_dict_keys(dict_, compare_func=lambda a,b: a in b):\n",
    "    #Dictionary to store the list of similar keys as values @ the correspondent key \n",
    "    #The 'key idea' here is to store the same object where they share similarity \n",
    "    #to store everything in the same place\n",
    "    join_dict = dict()\n",
    "    \n",
    "    #for key1 in dict_.keys():\n",
    "        #key1_similar = "
   ]
  },
  {
   "cell_type": "code",
   "execution_count": 4,
   "metadata": {
    "collapsed": true
   },
   "outputs": [],
   "source": [
    "art = wikipedia.get_article_by_href(\"AutoCAD\", \"pt\")\n",
    "#art._html"
   ]
  },
  {
   "cell_type": "code",
   "execution_count": 5,
   "metadata": {
    "collapsed": true,
    "scrolled": false
   },
   "outputs": [],
   "source": [
    "from collections import Counter, defaultdict\n",
    "import re\n",
    "\n",
    "html_links = art.links()\n",
    "html_text = re.sub(r\"[\\n]+\", \" \", art.text())\n",
    "\n",
    "links_text_counter = Counter() #Link text counter\n",
    "links_text_dict = defaultdict(list)\n",
    "\n",
    "for link, text in html_links:\n",
    "    links_text_dict[text.lower()].append(link.lower())    \n",
    "\n",
    "    \n",
    "for l_text in links_text_dict.keys():\n",
    "    matches = re.findall('[^a-zA-Z0-9_]' + re.escape(l_text) + '[^a-zA-Z0-9_]', html_text, re.IGNORECASE)\n",
    "    for _ in range(len(matches)):\n",
    "        links_weight = 1.0 / len(links_text_dict[l_text])\n",
    "        for link in links_text_dict[l_text]:\n",
    "            links_text_counter[link] += links_weight  \n",
    "#Counter(map(lambda a:a[0], html_links)).most_common()"
   ]
  },
  {
   "cell_type": "code",
   "execution_count": 6,
   "metadata": {},
   "outputs": [
    {
     "name": "stdout",
     "output_type": "stream",
     "text": [
      "vers%c3%a3o 30.0 1.4771212547196624\n",
      "desenho 15.0 1.1760912590556811\n",
      "microsoft_windows 10.0 1.0\n",
      "2007 8.0 0.9030899869919434\n",
      "cad 6.999999999999997 0.8450980400142566\n",
      "software 6.0 0.7781512503836435\n",
      "2d_(computa%c3%a7%c3%a3o_gr%c3%a1fica) 5.0 0.6989700043360187\n",
      "unix 5.0 0.6989700043360187\n",
      "2004 5.0 0.6989700043360187\n",
      "dwg 5.0 0.6989700043360187\n",
      "2008 5.0 0.6989700043360187\n",
      "2010 5.0 0.6989700043360187\n",
      "lisp 4.999999999999999 0.6989700043360187\n",
      "2000 4.0 0.6020599913279623\n",
      "2005 4.0 0.6020599913279623\n",
      "2006 4.0 0.6020599913279623\n",
      "pdf 4.0 0.6020599913279623\n",
      "2009 4.0 0.6020599913279623\n",
      "2013 4.0 0.6020599913279623\n",
      "1982 3.0 0.47712125471966244\n",
      "2012 3.0 0.47712125471966244\n",
      "software_propriet%c3%a1rio 3.0 0.47712125471966244\n",
      "autolisp 3.0 0.47712125471966244\n",
      "1983 3.0 0.47712125471966244\n",
      "2014 3.0 0.47712125471966244\n",
      "autodesk,_inc. 2.0 0.30102999566398114\n",
      "sistema_operativo 2.0 0.30102999566398114\n",
      "mac_os 2.0 0.30102999566398114\n",
      "arquitectura 2.0 0.30102999566398114\n",
      "1997 2.0 0.30102999566398114\n",
      "desenho_arquitet%c3%b4nico 2.0 0.30102999566398114\n",
      "visual_basic 2.0 0.30102999566398114\n",
      "1987 2.0 0.30102999566398114\n",
      "1993 2.0 0.30102999566398114\n",
      "bmp 2.0 0.30102999566398114\n",
      "1999 2.0 0.30102999566398114\n",
      "2001 2.0 0.30102999566398114\n",
      "2003 2.0 0.30102999566398114\n",
      "dwf 2.0 0.30102999566398114\n",
      "2011 2.0 0.30102999566398114\n",
      "programador 1.0 0.0\n",
      "licen%c3%a7a_de_software 1.0 0.0\n",
      "site 1.0 0.0\n",
      "desenho_t%c3%a9cnico 1.0 0.0\n",
      "modelagem_tridimensional 1.0 0.0\n",
      "design_de_interiores 1.0 0.0\n",
      "engenharia_civil 1.0 0.0\n",
      "engenharia_mec%c3%a2nica 1.0 0.0\n",
      "engenharia_geogr%c3%a1fica 1.0 0.0\n",
      "engenharia_el%c3%a9trica 1.0 0.0\n",
      "ind%c3%bastria 1.0 0.0\n",
      "sig 1.0 0.0\n",
      "linguagem_de_computador_interpretada 1.0 0.0\n",
      "linguagem_de_script 1.0 0.0\n",
      "bicicleta 1.0 0.0\n",
      "1984 1.0 0.0\n",
      "1985 1.0 0.0\n",
      "1986 1.0 0.0\n",
      "1988 1.0 0.0\n",
      "1990 1.0 0.0\n",
      "1992 1.0 0.0\n",
      "1994 1.0 0.0\n",
      "gif 1.0 0.0\n",
      "tiff 1.0 0.0\n",
      "jpg 1.0 0.0\n",
      "1995 1.0 0.0\n",
      "1998 1.0 0.0\n",
      "l%c3%adngua_portuguesa 1.0 0.0\n",
      "fachada 1.0 0.0\n",
      "windows_vista 1.0 0.0\n",
      "ide 1.0 0.0\n",
      "vba 1.0 0.0\n",
      ".net 1.0 0.0\n",
      "objectarx 1.0 0.0\n",
      "c%2b%2b 1.0 0.0\n",
      "software_livre 1.0 0.0\n",
      "qcad 1.0 0.0\n",
      "progecad 1.0 0.0\n",
      "bricscad 1.0 0.0\n",
      "datacad 1.0 0.0\n",
      "zwcad 1.0 0.0\n",
      "archicad 1.0 0.0\n",
      "vectorworks 1.0 0.0\n",
      "computa%c3%a7%c3%a3o_gr%c3%a1fica 1.0 0.0\n",
      "caad 1.0 0.0\n"
     ]
    }
   ],
   "source": [
    "import math\n",
    "\n",
    "for link, score in links_text_counter.most_common():\n",
    "    print(link, score, math.log(score, 10))"
   ]
  },
  {
   "cell_type": "code",
   "execution_count": 8,
   "metadata": {},
   "outputs": [
    {
     "data": {
      "text/plain": [
       "defaultdict(list,\n",
       "            {'.net': ['dot_net', '.net'],\n",
       "             '3d': ['3d'],\n",
       "             'amberg': ['amberg'],\n",
       "             'android': ['android_(betriebssystem)'],\n",
       "             'ansichten': ['ansicht_(darstellung)'],\n",
       "             'anwendungen': ['anwendungsprogramm'],\n",
       "             'api': ['programmierschnittstelle'],\n",
       "             'apple macintosh': ['apple_macintosh'],\n",
       "             'applikation': ['anwendungsprogramm'],\n",
       "             'architekten': ['architektur'],\n",
       "             'ascii': ['ascii'],\n",
       "             'autocad civil 3d': ['autocad_civil_3d'],\n",
       "             'autodesk': ['autodesk'],\n",
       "             'autodesk infrastructure map server': ['autodesk_infrastructure_map_server'],\n",
       "             'autodesk inventor': ['autodesk_inventor'],\n",
       "             'autolisp': ['autolisp', 'autolisp', 'autolisp'],\n",
       "             'automatisierung': ['automatisierung'],\n",
       "             'bauteile': ['bauteil_(bauwesen)'],\n",
       "             'bauwesen': ['bauwesen'],\n",
       "             'bibliothek': ['programmbibliothek'],\n",
       "             'bim': ['building_information_modeling'],\n",
       "             'binär': ['bin%c3%a4rdatei'],\n",
       "             'c++': ['c%2b%2b', 'c%2b%2b', 'c%2b%2b', 'c%2b%2b'],\n",
       "             'caad': ['caad'],\n",
       "             'cad': ['cad'],\n",
       "             'cad/cam': ['computer-aided_manufacturing'],\n",
       "             'customizing': ['customizing'],\n",
       "             'datenaustausch': ['datenaustausch'],\n",
       "             'designfachleute': ['design'],\n",
       "             'dokumentation': ['softwaredokumentation'],\n",
       "             'dxf': ['drawing_interchange_format'],\n",
       "             'dxf-schnittstelle': ['drawing_interchange_format'],\n",
       "             'dynamische simulation': ['dynamische_simulation'],\n",
       "             'esri-shapefile': ['esri-shapefile'],\n",
       "             'excel': ['microsoft_excel'],\n",
       "             'fem-berechnung': ['finite-elemente-methode'],\n",
       "             'geodaten': ['geodaten'],\n",
       "             'geoinformatiker': ['geoinformatik'],\n",
       "             'geoinformationssystem': ['geoinformationssystem'],\n",
       "             'grundrisse': ['grundriss'],\n",
       "             'gümligen': ['g%c3%bcmligen'],\n",
       "             'handwerkskammern': ['handwerkskammer'],\n",
       "             'hvac/mep': ['versorgungstechnik'],\n",
       "             'höhenlinienpläne': ['h%c3%b6henlinie'],\n",
       "             'ifc-format': ['industry_foundation_classes'],\n",
       "             'industrie- und handelskammern': ['industrie-_und_handelskammer'],\n",
       "             'industriestandard': ['industriestandard'],\n",
       "             'ingenieure': ['ingenieurwissenschaft'],\n",
       "             'innenarchitekten': ['innenarchitektur'],\n",
       "             'ios': ['ios_(betriebssystem)'],\n",
       "             'kabelbaumkonstruktion': ['kabelbaum'],\n",
       "             'kartografie': ['kartografie'],\n",
       "             'kompatibilität': ['kompatibilit%c3%a4t_(technik)'],\n",
       "             'kompiliert': ['kompilierung'],\n",
       "             'konverterprogrammen': ['konvertierung_(informatik)'],\n",
       "             'laserscanner': ['laserscanner'],\n",
       "             'macos': ['macos'],\n",
       "             'makros': ['makro'],\n",
       "             'mapserver': ['mapserver'],\n",
       "             'maschinenbau': ['maschinenbau'],\n",
       "             'maschinenbauingenieure': ['maschinenbau'],\n",
       "             'menüdateien': ['men%c3%bc_(computer)'],\n",
       "             'microsoft windows': ['microsoft_windows'],\n",
       "             'microstation': ['microstation'],\n",
       "             'mobile app': ['mobile_app'],\n",
       "             'modellieren': ['modell'],\n",
       "             'ms-dos': ['ms-dos'],\n",
       "             'open geospatial consortium': ['open_geospatial_consortium'],\n",
       "             'open source geospatial foundation': ['open_source_geospatial_foundation'],\n",
       "             'programmierschnittstellen': ['programmierschnittstelle',\n",
       "              'programmierschnittstelle'],\n",
       "             'programmiersprachen': ['programmiersprache'],\n",
       "             'punktwolken': ['punktwolke'],\n",
       "             'quelloffen': ['quelloffen'],\n",
       "             'quelltext': ['quelltext'],\n",
       "             'rohrleitungs': ['rohrleitung'],\n",
       "             'schnitte': ['schnitt_(darstellung)'],\n",
       "             'sketchbook': ['autodesk_autosketch'],\n",
       "             'skripte': ['skriptsprache'],\n",
       "             'smartphones': ['smartphone'],\n",
       "             'spatial': ['oracle_spatial'],\n",
       "             'stiftung warentest': ['stiftung_warentest'],\n",
       "             'stromlaufpläne': ['schaltplan'],\n",
       "             'symbolen': ['symbol'],\n",
       "             'tablet-pcs': ['tablet-pc'],\n",
       "             'technischen zeichnungen': ['technische_zeichnung',\n",
       "              'technische_zeichnung'],\n",
       "             'test.de': ['test.de'],\n",
       "             'texteditoren': ['texteditor'],\n",
       "             'tiefbauprojekten': ['tiefbau'],\n",
       "             'universität rostock': ['universit%c3%a4t_rostock'],\n",
       "             'unix': ['unix'],\n",
       "             'vba': ['visual_basic_for_applications',\n",
       "              'visual_basic_for_applications'],\n",
       "             'vektor-zeichenprogramm': ['grafiksoftware'],\n",
       "             'vektorgrafiken': ['vektorgrafik'],\n",
       "             'vektororientiertes': ['vektorgrafik'],\n",
       "             'visual basic': ['visual_basic'],\n",
       "             'visual basic for applications': ['visual_basic_for_applications'],\n",
       "             'webapp': ['webapp'],\n",
       "             'xlisp': ['xlisp'],\n",
       "             'xps-format': ['xml_paper_specification'],\n",
       "             'ɑːtoʊˈkæd': ['liste_der_ipa-zeichen']})"
      ]
     },
     "execution_count": 8,
     "metadata": {},
     "output_type": "execute_result"
    }
   ],
   "source": [
    "links_text_dict"
   ]
  },
  {
   "cell_type": "code",
   "execution_count": null,
   "metadata": {
    "collapsed": true
   },
   "outputs": [],
   "source": []
  }
 ],
 "metadata": {
  "kernelspec": {
   "display_name": "Python 3",
   "language": "python",
   "name": "python3"
  },
  "language_info": {
   "codemirror_mode": {
    "name": "ipython",
    "version": 3
   },
   "file_extension": ".py",
   "mimetype": "text/x-python",
   "name": "python",
   "nbconvert_exporter": "python",
   "pygments_lexer": "ipython3",
   "version": "3.6.1"
  }
 },
 "nbformat": 4,
 "nbformat_minor": 2
}
