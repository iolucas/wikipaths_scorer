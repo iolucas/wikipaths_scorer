{
 "cells": [
  {
   "cell_type": "markdown",
   "metadata": {},
   "source": [
    "# Article Important Links\n",
    "This notebook aims to study methods to retrieve links importance score on a wikipedia article"
   ]
  },
  {
   "cell_type": "code",
   "execution_count": 1,
   "metadata": {
    "collapsed": true
   },
   "outputs": [],
   "source": [
    "import wikipydia"
   ]
  },
  {
   "cell_type": "code",
   "execution_count": 2,
   "metadata": {
    "collapsed": true
   },
   "outputs": [],
   "source": [
    "def getLinksScore(pageName):\n",
    "    #Download page structured by sections\n",
    "    pageData = wikipydia.getPage(pageName)\n",
    "    soup = pageData['full']\n",
    "\n",
    "    #Clear table of contents if any\n",
    "    for node in soup.findAll(id='toc'):\n",
    "        node.decompose()\n",
    "\n",
    "    #Clear top info table if any\n",
    "    for node in soup.findAll(class_='ambox'):\n",
    "        node.decompose()\n",
    "\n",
    "    #Clear info box if any\n",
    "    for node in soup.findAll(class_='infobox'):\n",
    "        node.decompose()\n",
    "\n",
    "    #Clear verticalbox if any\n",
    "    for node in soup.findAll(class_='vertical-navbox'):\n",
    "        node.decompose()\n",
    "\n",
    "\n",
    "    #Get the wikilinks texts and build a set of target word\n",
    "    #Avoid links with : that means special links for wikipedia\n",
    "    #Clear parentheses in text cause it is not handled proper by text boundaries \\b\n",
    "    #targetWords = set([re.sub(r\" \\(.*\\)\", \"\", link.text.lower()) for link in soup.findAll('a') if link['href'][0:6] == '/wiki/' and not ':' in link['href']])\n",
    "    targetLinks = set([(link['href'][6:], link.text.lower()) for link in soup.findAll('a') if link.has_attr('href') and link['href'][0:6] == '/wiki/' and not ':' in link['href'] and not '(disambiguation)' in link['href']])\n",
    "    #check why the \"for\" word is appearing on python\n",
    "    #test without removing parentheses"
   ]
  },
  {
   "cell_type": "code",
   "execution_count": null,
   "metadata": {
    "collapsed": true
   },
   "outputs": [],
   "source": []
  }
 ],
 "metadata": {
  "kernelspec": {
   "display_name": "Python 3",
   "language": "python",
   "name": "python3"
  },
  "language_info": {
   "codemirror_mode": {
    "name": "ipython",
    "version": 3
   },
   "file_extension": ".py",
   "mimetype": "text/x-python",
   "name": "python",
   "nbconvert_exporter": "python",
   "pygments_lexer": "ipython3",
   "version": "3.6.1"
  }
 },
 "nbformat": 4,
 "nbformat_minor": 2
}
